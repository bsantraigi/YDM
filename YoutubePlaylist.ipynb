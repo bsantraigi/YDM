{
 "cells": [
  {
   "cell_type": "code",
   "execution_count": 2,
   "metadata": {
    "collapsed": false
   },
   "outputs": [
    {
     "name": "stdout",
     "output_type": "stream",
     "text": [
      "USAGE: python3 youParse.py YOUTUBEurl\n"
     ]
    }
   ],
   "source": [
    "# Name: youParse.py\n",
    "# Version: 1.3\n",
    "# Author: pantuts\n",
    "# Description: Parse URLs in Youtube User's Playlist (Video Playlist not Favorites)\n",
    "# Use python3 and later\n",
    "# Agreement: You can use, modify, or redistribute this tool under\n",
    "# the terms of GNU General Public License (GPLv3).\n",
    "# This tool is for educational purposes only. Any damage you make will not affect the author.\n",
    "# Usage: python3 youParse.py youtubeURLhere\n",
    "\n",
    "# sudo pip install youtube-dl\n",
    "# download pafy from github\n",
    "\n",
    "import re\n",
    "import urllib.request\n",
    "import urllib.error\n",
    "import sys\n",
    "import time\n",
    "from pafy import pafy\n",
    "\n",
    "def crawl(url):\n",
    "    sTUBE = ''\n",
    "    cPL = ''\n",
    "    amp = 0\n",
    "    final_url = []\n",
    "    \n",
    "    if 'list=' in url:\n",
    "        eq = url.index('=') + 1\n",
    "        cPL = url[eq:]\n",
    "        if '&' in url:\n",
    "            amp = url.index('&')\n",
    "            cPL = url[eq:amp]\n",
    "            \n",
    "    else:\n",
    "        print('Incorrect Playlist.')\n",
    "        exit(1)\n",
    "    \n",
    "    try:\n",
    "        yTUBE = urllib.request.urlopen(url).read()\n",
    "        sTUBE = str(yTUBE)\n",
    "    except urllib.error.URLError as e:\n",
    "        print(e.reason)\n",
    "    \n",
    "    tmp_mat = re.compile(r'watch\\?v=\\S+?list=' + cPL)\n",
    "    mat = re.findall(tmp_mat, sTUBE)\n",
    "\n",
    "    if mat:\n",
    "        \n",
    "        if mat[0] == mat[1]:\n",
    "            mat.remove(mat[0]) #if there is duplicate, remove\n",
    "            \n",
    "        for PL in mat:\n",
    "            yPL = str(PL)\n",
    "            if '&' in yPL:\n",
    "                yPL_amp = yPL.index('&')\n",
    "            final_url.append('http://www.youtube.com/' + yPL[:yPL_amp])\n",
    "                \n",
    "        i = 0\n",
    "        while i < len(mat):\n",
    "#             sys.stdout.write(final_url[i] + '\\n')\n",
    "            i = i + 1\n",
    "        return final_url, len(mat)\n",
    "        \n",
    "    else:\n",
    "        print('No videos found.')\n",
    "        exit(1)\n",
    "\n",
    "def listParser(list_url):\n",
    "    final_url, l = crawl(\"https://www.youtube.com/playlist?list=PLK3nRt7ToxJ3BGUDQ4wBW5yJLe0zoA95s\")\n",
    "    uset = set(final_url)\n",
    "    print(uset)\n",
    "    fHTML = open(\"temp.html\",\"w\")\n",
    "    for u in uset:\n",
    "        url = u\n",
    "        video = pafy.new(url)\n",
    "        s = video.getbest()\n",
    "        print(s.resolution, s.url)\n",
    "        fHTML.write(\"<a href='\"+s.url+\"'>\" + video.title + \"</a><br>\")\n",
    "    fHTML.close()\n",
    "        \n",
    "if len(sys.argv) < 2 or len(sys.argv) > 2:\n",
    "    print('USAGE: python3 youParse.py YOUTUBEurl')    \n",
    "    exit(1)\n",
    "    \n",
    "else:\n",
    "    url = sys.argv[1]\n",
    "    if 'http' not in url:\n",
    "        url = 'http://' + url\n",
    "    listParser(url)\n"
   ]
  },
  {
   "cell_type": "code",
   "execution_count": 2,
   "metadata": {
    "collapsed": false
   },
   "outputs": [
    {
     "ename": "ImportError",
     "evalue": "No module named 'SimpleHTTPServer'",
     "output_type": "error",
     "traceback": [
      "\u001b[1;31m---------------------------------------------------------------------------\u001b[0m",
      "\u001b[1;31mImportError\u001b[0m                               Traceback (most recent call last)",
      "\u001b[1;32m<ipython-input-2-26ecd0a0a89f>\u001b[0m in \u001b[0;36m<module>\u001b[1;34m()\u001b[0m\n\u001b[1;32m----> 1\u001b[1;33m \u001b[1;32mimport\u001b[0m \u001b[0mSimpleHTTPServer\u001b[0m\u001b[1;33m\u001b[0m\u001b[0m\n\u001b[0m\u001b[0;32m      2\u001b[0m \u001b[1;32mimport\u001b[0m \u001b[0mSocketServer\u001b[0m\u001b[1;33m\u001b[0m\u001b[0m\n\u001b[0;32m      3\u001b[0m \u001b[1;33m\u001b[0m\u001b[0m\n\u001b[0;32m      4\u001b[0m \u001b[0mPORT\u001b[0m \u001b[1;33m=\u001b[0m \u001b[1;36m8000\u001b[0m\u001b[1;33m\u001b[0m\u001b[0m\n\u001b[0;32m      5\u001b[0m \u001b[1;33m\u001b[0m\u001b[0m\n",
      "\u001b[1;31mImportError\u001b[0m: No module named 'SimpleHTTPServer'"
     ]
    }
   ],
   "source": []
  },
  {
   "cell_type": "code",
   "execution_count": null,
   "metadata": {
    "collapsed": false
   },
   "outputs": [],
   "source": []
  },
  {
   "cell_type": "code",
   "execution_count": null,
   "metadata": {
    "collapsed": true
   },
   "outputs": [],
   "source": []
  }
 ],
 "metadata": {
  "kernelspec": {
   "display_name": "Python 3",
   "language": "python",
   "name": "python3"
  },
  "language_info": {
   "codemirror_mode": {
    "name": "ipython",
    "version": 3
   },
   "file_extension": ".py",
   "mimetype": "text/x-python",
   "name": "python",
   "nbconvert_exporter": "python",
   "pygments_lexer": "ipython3",
   "version": "3.5.0"
  }
 },
 "nbformat": 4,
 "nbformat_minor": 0
}
